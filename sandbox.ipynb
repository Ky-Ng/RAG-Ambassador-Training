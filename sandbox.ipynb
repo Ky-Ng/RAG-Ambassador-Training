{
 "cells": [
  {
   "cell_type": "markdown",
   "metadata": {},
   "source": [
    "# Playground for trying out all sorts of libraries!"
   ]
  },
  {
   "cell_type": "markdown",
   "metadata": {},
   "source": [
    "## Testing The Cohere Embeding Model"
   ]
  },
  {
   "cell_type": "code",
   "execution_count": 12,
   "metadata": {},
   "outputs": [
    {
     "data": {
      "text/plain": [
       "True"
      ]
     },
     "execution_count": 12,
     "metadata": {},
     "output_type": "execute_result"
    }
   ],
   "source": [
    "# Step 0) Handle API Key's Securely\n",
    "import os\n",
    "from dotenv import load_dotenv\n",
    "load_dotenv()"
   ]
  },
  {
   "cell_type": "code",
   "execution_count": 13,
   "metadata": {},
   "outputs": [],
   "source": [
    "# Step 1) Use Cohere's Embed Model to create text embeddings\n",
    "\n",
    "# Setup Cohere\n",
    "import cohere\n",
    "co = cohere.Client(os.environ.get('COHERE_API_KEY'))\n",
    "\n",
    "to_embed = [\n",
    "    \"I've heard USC is called the University of Spoiled Children. Do you find this to be true?\",\n",
    "    \"Not at all! During my time at USC, I have always felt surrounded by an extremely diverse student community. Students come from all types of backgrounds and this really adds to a cohesive and enriching student dynamic. That being said, I think that regardless of a USC student's socio-economic background, everyone at USC works hard and comes together to explore academic and extracurricular interests.\"\n",
    "]"
   ]
  },
  {
   "cell_type": "code",
   "execution_count": 14,
   "metadata": {},
   "outputs": [],
   "source": [
    "# Embed Sentences\n",
    "# def get_embedding(sent: str) -> :\n",
    "\n",
    "sentence_embeddings = co.embed(\n",
    "    texts=to_embed,\n",
    "    model=\"embed-english-v3.0\",\n",
    "    input_type=\"search_document\",\n",
    "    truncate='END',\n",
    "    embedding_types=['float']\n",
    ").embeddings.float"
   ]
  },
  {
   "cell_type": "code",
   "execution_count": 15,
   "metadata": {},
   "outputs": [
    {
     "name": "stderr",
     "output_type": "stream",
     "text": [
      "/Users/kyleng/B_Organized/dev/nlp/rag/RAG-Ambassador-Training/.venv/lib/python3.9/site-packages/pinecone/data/index.py:1: TqdmWarning: IProgress not found. Please update jupyter and ipywidgets. See https://ipywidgets.readthedocs.io/en/stable/user_install.html\n",
      "  from tqdm.autonotebook import tqdm\n"
     ]
    }
   ],
   "source": [
    "# Import Pinecone\n",
    "from pinecone import Pinecone, ServerlessSpec\n",
    "pc = Pinecone(api_key=os.environ.get('PINECONE_API_KEY'))"
   ]
  },
  {
   "cell_type": "markdown",
   "metadata": {},
   "source": [
    "## Testing the Pinecone Indexing / Endpoints"
   ]
  },
  {
   "cell_type": "code",
   "execution_count": 16,
   "metadata": {},
   "outputs": [],
   "source": [
    "index_name = \"cohere-test-embeddings\"\n",
    "existing_indexes = [\n",
    "    index[\"name\"] for index in pc.list_indexes()\n",
    "]\n",
    "index_exists = index_name in existing_indexes"
   ]
  },
  {
   "cell_type": "code",
   "execution_count": 17,
   "metadata": {},
   "outputs": [
    {
     "name": "stdout",
     "output_type": "stream",
     "text": [
      "False\n",
      "{'indexes': [{'dimension': 8,\n",
      "              'host': 'cohere-test-embeddings-1efl3et.svc.apw5-4e34-81fa.pinecone.io',\n",
      "              'metric': 'cosine',\n",
      "              'name': 'cohere-test-embeddings',\n",
      "              'spec': {'serverless': {'cloud': 'aws', 'region': 'us-west-2'}},\n",
      "              'status': {'ready': True, 'state': 'Ready'}},\n",
      "             {'dimension': 8,\n",
      "              'host': 'quickstart-first-1efl3et.svc.apw5-4e34-81fa.pinecone.io',\n",
      "              'metric': 'euclidean',\n",
      "              'name': 'quickstart-first',\n",
      "              'spec': {'serverless': {'cloud': 'aws', 'region': 'us-west-2'}},\n",
      "              'status': {'ready': True, 'state': 'Ready'}}]}\n"
     ]
    }
   ],
   "source": [
    "print (index_name in pc.list_indexes())\n",
    "\n",
    "print(pc.list_indexes())"
   ]
  },
  {
   "cell_type": "code",
   "execution_count": 18,
   "metadata": {},
   "outputs": [],
   "source": [
    "# Create an Index\n",
    "if not index_exists:\n",
    "    pc.create_index(\n",
    "        name=index_name,\n",
    "        dimension=8,\n",
    "        metric=\"cosine\",\n",
    "        spec=ServerlessSpec(\n",
    "            cloud='aws',\n",
    "            region='us-west-2'\n",
    "        )\n",
    "    )"
   ]
  },
  {
   "cell_type": "markdown",
   "metadata": {},
   "source": [
    "## Understanding LangChain Expression Language(LCEL) under the hood"
   ]
  },
  {
   "cell_type": "code",
   "execution_count": 19,
   "metadata": {},
   "outputs": [
    {
     "data": {
      "text/plain": [
       "12"
      ]
     },
     "execution_count": 19,
     "metadata": {},
     "output_type": "execute_result"
    }
   ],
   "source": [
    "# https://www.youtube.com/watch?v=O0dUOtOIrfs\n",
    "# 1st Function | 2nd Function\n",
    "class MyRunnable:\n",
    "    def __init__(self, the_first_function):\n",
    "        self.first_function = the_first_function\n",
    "\n",
    "    def __or__(self, second_function):\n",
    "        def chained_function(*args, **kwargs):\n",
    "            evaluate_first_function = self.first_function(*args, **kwargs)\n",
    "            return second_function(evaluate_first_function)\n",
    "        return MyRunnable(chained_function)\n",
    "\n",
    "    # Note: we overload `operator()` instead of `invoke()` in this example\n",
    "    def __call__(self, *args, **kwargs):\n",
    "        return self.first_function(*args, **kwargs)\n",
    "\n",
    "\n",
    "def add_five(x):\n",
    "    return x + 5\n",
    "\n",
    "def mult_two(x):\n",
    "    return x * 2\n",
    "\n",
    "add_five_runnable = MyRunnable(add_five)\n",
    "mult_two_runnable = MyRunnable(mult_two)\n",
    "\n",
    "chain_add_five_mult_two = add_five_runnable.__or__(mult_two_runnable)\n",
    "\n",
    "chain_add_five_mult_two(1)"
   ]
  },
  {
   "cell_type": "markdown",
   "metadata": {},
   "source": [
    "### Example of LCEL using local PineCone"
   ]
  },
  {
   "cell_type": "code",
   "execution_count": 46,
   "metadata": {},
   "outputs": [],
   "source": [
    "import os\n",
    "# Import Pinecone\n",
    "from pinecone import Pinecone, ServerlessSpec\n",
    "from langchain.embeddings import CohereEmbeddings\n",
    "from langchain_pinecone import PineconeVectorStore\n",
    "\n",
    "pc = Pinecone(api_key=os.environ.get('PINECONE_API_KEY'))\n",
    "index_name = \"langchain-test-index-3\"\n",
    "\n",
    "# index_name = \"cohere-test-embeddings\"\n",
    "existing_indexes = [\n",
    "    index[\"name\"] for index in pc.list_indexes()\n",
    "]\n",
    "index_exists = index_name in existing_indexes\n",
    "\n",
    "# Create an Index\n",
    "if not index_exists:\n",
    "    pc.create_index(\n",
    "        name=index_name,\n",
    "        dimension=384,\n",
    "        metric=\"cosine\",\n",
    "        spec=ServerlessSpec(\n",
    "            cloud='aws',\n",
    "            region='us-west-2'\n",
    "        )\n",
    "    )\n",
    "\n",
    "embeddings_model = CohereEmbeddings(\n",
    "    model=\"embed-english-light-v3.0\",\n",
    "    cohere_api_key=os.environ.get(\"COHERE_API_KEY\"),\n",
    ")\n",
    "\n",
    "vectorstore_a = PineconeVectorStore(\n",
    "    embedding=embeddings_model,\n",
    "    index_name=index_name\n",
    ")\n"
   ]
  },
  {
   "cell_type": "code",
   "execution_count": 47,
   "metadata": {},
   "outputs": [
    {
     "data": {
      "text/plain": [
       "['f18a82a0-cc1d-4457-aa9e-cf5dec532b5a',\n",
       " '7e0f3e02-4bde-4150-b324-57a84a4c896d',\n",
       " '9d695282-f69e-45d4-9733-e0d26714e537',\n",
       " '4de460d7-7a98-43b2-a655-8bbda4d18f96',\n",
       " 'a4b3c1fb-a192-4e1c-9d8e-4c96db8916a0']"
      ]
     },
     "execution_count": 47,
     "metadata": {},
     "output_type": "execute_result"
    }
   ],
   "source": [
    "vectorstore_a.add_texts([\"USC is the best school in the world\", \n",
    "                         \"USC is known for being awesome because it is very warm during the summer\",\n",
    "                        \"USC has the best college of Letter's of Arts and Sciences called Dornsife Viterbi\",\n",
    "                         \"USC has the best dance school, Kauffman, better than any other dance school in the world (Juliard)\",\n",
    "                         \"USC is known for being bad because it has many hard linguistics and CS classes\",\n",
    "                         \"USC is bad because Complex Analysis is too Complex, and Accounting is not accounted for\"]\n",
    "                        )"
   ]
  },
  {
   "cell_type": "code",
   "execution_count": 48,
   "metadata": {},
   "outputs": [],
   "source": [
    "from langchain_core.runnables import RunnableParallel, RunnablePassthrough\n",
    "from langchain.prompts import PromptTemplate\n",
    "from langchain.schema.output_parser import StrOutputParser\n",
    "from langchain_community.llms import Cohere\n",
    "\n",
    "llm = Cohere(model=\"command\")\n",
    "\n",
    "retriever = vectorstore_a.as_retriever()\n",
    "prompt_str = \"\"\"\n",
    "Question: {question}\n",
    "\n",
    "Context: {context}\n",
    "\n",
    "Answer:\n",
    "\"\"\"\n",
    "\n",
    "prompt =  PromptTemplate.from_template(prompt_str)\n",
    "\n",
    "retrieve_context_and_get_quality = RunnableParallel({\"question\": RunnablePassthrough(), \"context\": retriever})\n",
    "\n",
    "chain = retrieve_context_and_get_quality | prompt | llm  | StrOutputParser()"
   ]
  },
  {
   "cell_type": "code",
   "execution_count": 50,
   "metadata": {},
   "outputs": [
    {
     "name": "stdout",
     "output_type": "stream",
     "text": [
      " USC is bad because it has very difficult linguistics and CS courses. However, it is also known to be awesome because of the great weather during the summer. \n"
     ]
    }
   ],
   "source": [
    "out = chain.invoke(\"Why is USC bad?\")\n",
    "print(out)"
   ]
  },
  {
   "cell_type": "code",
   "execution_count": 41,
   "metadata": {},
   "outputs": [],
   "source": [
    "# Cleanup\n",
    "pc.delete_index(name=index_name)"
   ]
  }
 ],
 "metadata": {
  "kernelspec": {
   "display_name": ".venv",
   "language": "python",
   "name": "python3"
  },
  "language_info": {
   "codemirror_mode": {
    "name": "ipython",
    "version": 3
   },
   "file_extension": ".py",
   "mimetype": "text/x-python",
   "name": "python",
   "nbconvert_exporter": "python",
   "pygments_lexer": "ipython3",
   "version": "3.9.6"
  }
 },
 "nbformat": 4,
 "nbformat_minor": 2
}
