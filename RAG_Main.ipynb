{
 "cells": [
  {
   "cell_type": "code",
   "execution_count": 30,
   "metadata": {},
   "outputs": [],
   "source": [
    "import os\n",
    "# Import Pinecone\n",
    "from pinecone import Pinecone, ServerlessSpec\n",
    "from langchain.embeddings import CohereEmbeddings\n",
    "from langchain_pinecone import PineconeVectorStore\n",
    "\n",
    "pc = Pinecone(api_key=os.environ.get('PINECONE_API_KEY'))\n",
    "index_name = \"langchain-test-index-3\"\n",
    "\n",
    "# index_name = \"cohere-test-embeddings\"\n",
    "existing_indexes = [\n",
    "    index[\"name\"] for index in pc.list_indexes()\n",
    "]\n",
    "index_exists = index_name in existing_indexes\n",
    "\n",
    "# Create an Index\n",
    "if not index_exists:\n",
    "    pc.create_index(\n",
    "        name=index_name,\n",
    "        dimension=384,\n",
    "        metric=\"cosine\",\n",
    "        spec=ServerlessSpec(\n",
    "            cloud='aws',\n",
    "            region='us-west-2'\n",
    "        )\n",
    "    )\n",
    "\n",
    "embeddings_model = CohereEmbeddings(\n",
    "    model=\"embed-english-light-v3.0\",\n",
    "    cohere_api_key=os.environ.get(\"COHERE_API_KEY\"),\n",
    ")\n",
    "\n",
    "vectorstore_a = PineconeVectorStore(\n",
    "    embedding=embeddings_model,\n",
    "    index_name=index_name\n",
    ")"
   ]
  },
  {
   "cell_type": "code",
   "execution_count": 31,
   "metadata": {},
   "outputs": [
    {
     "data": {
      "text/plain": [
       "['e0f2a0ce-f797-4869-869d-f08171aa2f3e',\n",
       " '1b4ac9dc-5351-4571-8380-7f813e61d62d',\n",
       " 'aa2e4750-3e4a-455c-b963-7c6e2259bba4',\n",
       " '6d6e72fb-431d-4478-af78-ae1792eb963e',\n",
       " '076517fe-f4b2-41cf-95fc-8221d4433231',\n",
       " '565eac3e-ca60-4cdf-999b-12cf540f93de']"
      ]
     },
     "execution_count": 31,
     "metadata": {},
     "output_type": "execute_result"
    }
   ],
   "source": [
    "vectorstore_a.add_texts([\"USC is the best school in the world\", \n",
    "                         \"USC is known for being awesome because it is very warm during the summer\",\n",
    "                        \"USC has the best college of Letter's of Arts and Sciences called Dornsife Viterbi\",\n",
    "                         \"USC has the best dance school, Kauffman, better than any other dance school in the world (Juliard)\",\n",
    "                         \"USC is known for being bad because it has many hard linguistics and CS classes\",\n",
    "                         \"USC is bad because Complex Analysis is too Complex, and Accounting is not accounted for\"]\n",
    "                        )"
   ]
  },
  {
   "cell_type": "code",
   "execution_count": 32,
   "metadata": {},
   "outputs": [],
   "source": [
    "from langchain_core.runnables import RunnableParallel, RunnablePassthrough\n",
    "from langchain.prompts import PromptTemplate\n",
    "from langchain.schema.output_parser import StrOutputParser\n",
    "from langchain_community.llms import Cohere\n",
    "\n",
    "llm = Cohere(model=\"command\")\n",
    "\n",
    "retriever = vectorstore_a.as_retriever()\n",
    "prompt_str = \"\"\"\n",
    "Question: {question}\n",
    "\n",
    "Please answer the question above using only the context provided.\n",
    "Context: {context}\n",
    "\n",
    "Answer:\n",
    "\"\"\"\n",
    "\n",
    "prompt =  PromptTemplate.from_template(prompt_str)\n",
    "\n",
    "retrieve_context_and_get_quality = RunnableParallel({\"question\": RunnablePassthrough(), \"context\": retriever})\n",
    "\n",
    "chain = retrieve_context_and_get_quality | prompt | llm  | StrOutputParser()"
   ]
  },
  {
   "cell_type": "code",
   "execution_count": 33,
   "metadata": {},
   "outputs": [
    {
     "name": "stdout",
     "output_type": "stream",
     "text": [
      " Some reasons that USC is considered bad is that the school has very difficult linguistics and CS classes on top of the fact that the Complex Analysis class is considered too complex and the Accounting department is not well regarded.\n"
     ]
    }
   ],
   "source": [
    "out = chain.invoke(\"Why is USC bad?\")\n",
    "print(out)"
   ]
  },
  {
   "cell_type": "code",
   "execution_count": 34,
   "metadata": {},
   "outputs": [
    {
     "name": "stdout",
     "output_type": "stream",
     "text": [
      " USC is known for its awesome and warm summer as well as for being one of the best schools in the world, however it is also known for its difficult linguistics and CS classes. Complex analysis is also considered too complex, and accounting is not accounted for, therefore it's important to consider the positive and negative attributes of USC when evaluating the school. \n"
     ]
    }
   ],
   "source": [
    "out = chain.invoke(\"Why is USC good?\")\n",
    "print(out)"
   ]
  },
  {
   "cell_type": "code",
   "execution_count": 35,
   "metadata": {},
   "outputs": [],
   "source": [
    "# Cleanup\n",
    "# pc.delete_index(name=index_name)"
   ]
  }
 ],
 "metadata": {
  "kernelspec": {
   "display_name": ".venv",
   "language": "python",
   "name": "python3"
  },
  "language_info": {
   "codemirror_mode": {
    "name": "ipython",
    "version": 3
   },
   "file_extension": ".py",
   "mimetype": "text/x-python",
   "name": "python",
   "nbconvert_exporter": "python",
   "pygments_lexer": "ipython3",
   "version": "3.9.6"
  }
 },
 "nbformat": 4,
 "nbformat_minor": 2
}
