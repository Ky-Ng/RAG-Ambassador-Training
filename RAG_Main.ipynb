{
 "cells": [
  {
   "cell_type": "markdown",
   "metadata": {},
   "source": [
    "# RAG Student Ambassador Training"
   ]
  },
  {
   "cell_type": "markdown",
   "metadata": {},
   "source": [
    "## Step 0) Handle Imports"
   ]
  },
  {
   "cell_type": "code",
   "execution_count": null,
   "metadata": {},
   "outputs": [],
   "source": [
    "import os\n",
    "from pinecone import Pinecone, ServerlessSpec\n",
    "from langchain.embeddings import CohereEmbeddings\n",
    "from langchain_pinecone import PineconeVectorStore"
   ]
  },
  {
   "cell_type": "markdown",
   "metadata": {},
   "source": [
    "## Step 1) Create Pinecone Index"
   ]
  },
  {
   "cell_type": "code",
   "execution_count": 18,
   "metadata": {},
   "outputs": [],
   "source": [
    "# Create Pinecone Instance\n",
    "pc = Pinecone(api_key=os.environ.get('PINECONE_API_KEY'))\n",
    "\n",
    "# See if index already exists\n",
    "index_name = \"cohere-langchain-test\"\n",
    "\n",
    "existing_indexes = [\n",
    "    index[\"name\"] for index in pc.list_indexes()\n",
    "]\n",
    "index_exists = index_name in existing_indexes"
   ]
  },
  {
   "cell_type": "code",
   "execution_count": 19,
   "metadata": {},
   "outputs": [],
   "source": [
    "# Create an Index if it does not exist\n",
    "if not index_exists:\n",
    "    pc.create_index(\n",
    "        name=index_name,\n",
    "        dimension=384,\n",
    "        metric=\"cosine\",\n",
    "        spec=ServerlessSpec(\n",
    "            cloud='aws',\n",
    "            region='us-west-2'\n",
    "        )\n",
    "    )"
   ]
  },
  {
   "cell_type": "markdown",
   "metadata": {},
   "source": [
    "## Step 2) Initialize `CohereEmbeddings` and Vector Store"
   ]
  },
  {
   "cell_type": "code",
   "execution_count": 21,
   "metadata": {},
   "outputs": [],
   "source": [
    "embeddings_model = CohereEmbeddings(\n",
    "    model=\"embed-english-light-v3.0\",\n",
    "    cohere_api_key=os.environ.get(\"COHERE_API_KEY\"),\n",
    ")\n",
    "\n",
    "vectorstore_a = PineconeVectorStore(\n",
    "    embedding=embeddings_model,\n",
    "    index_name=index_name\n",
    ")"
   ]
  },
  {
   "cell_type": "markdown",
   "metadata": {},
   "source": [
    "## Step 3) Declare RAG Documents"
   ]
  },
  {
   "cell_type": "code",
   "execution_count": null,
   "metadata": {},
   "outputs": [],
   "source": [
    "# Add Sentences about USC regarding different topics:\n",
    "\n",
    "# USC is good\n",
    "vectorstore_a.add_texts(\n",
    "    [\n",
    "        \"USC is very good for its central location and access to cultural centers like Korea Town\"\n",
    "        \"USC is very warm during the summer\",\n",
    "    ]\n",
    ")\n",
    "\n",
    "# USC is bad\n",
    "vectorstore_a.add_texts(\n",
    "    [\n",
    "        \"USC is known for being bad because it has many hard linguistics and CS classes\",\n",
    "    ]\n",
    ")\n",
    "\n",
    "# USC Facts\n",
    "vectorstore_a.add_texts(\n",
    "    [\n",
    "        \"USC has the best College of Letter's of Arts and Sciences called Dornsife Viterbi\",\n",
    "    ]\n",
    ")\n",
    "\n",
    "# USC Ambassador Sentences\n",
    "vectorstore_a.add_texts(\n",
    "    [\n",
    "        \"Although USC is known as the University of Spoiled Children, students 2/3 of students receive some form of financial aid\"\n",
    "        \"Although USC is known as the University of Spoiled Children, 1/5 of all students are first generation\"\n",
    "    ]\n",
    ")"
   ]
  },
  {
   "cell_type": "markdown",
   "metadata": {},
   "source": [
    "## Step 4) Construct LangChain Components\n",
    "1) Cohere `Command` model for Question and Answering\n",
    "2) Pinecone Vector Store Retreiver using Semantic Search\n",
    "3) Templated prompt with slotted in `question` and `context`"
   ]
  },
  {
   "cell_type": "code",
   "execution_count": 3,
   "metadata": {},
   "outputs": [],
   "source": [
    "from langchain_core.runnables import RunnableParallel, RunnablePassthrough\n",
    "from langchain.prompts import PromptTemplate\n",
    "from langchain.schema.output_parser import StrOutputParser\n",
    "from langchain_community.llms import Cohere\n",
    "\n",
    "llm = Cohere(model=\"command\")\n",
    "\n",
    "retriever = vectorstore_a.as_retriever()\n",
    "\n",
    "prompt_str = \"\"\"\n",
    "Question: {question}\n",
    "\n",
    "Please answer the question above using only the context provided.\n",
    "Context: {context}\n",
    "\n",
    "Answer:\n",
    "\"\"\""
   ]
  },
  {
   "cell_type": "markdown",
   "metadata": {},
   "source": [
    "### Step 4a) Use LangChain Expression Language (LCEL) to connect components"
   ]
  },
  {
   "cell_type": "code",
   "execution_count": null,
   "metadata": {},
   "outputs": [],
   "source": [
    "prompt =  PromptTemplate.from_template(prompt_str)\n",
    "\n",
    "retrieve_question_and_context = RunnableParallel({\"question\": RunnablePassthrough(), \"context\": retriever})\n",
    "\n",
    "chain = retrieve_question_and_context | prompt | llm  | StrOutputParser()"
   ]
  },
  {
   "cell_type": "markdown",
   "metadata": {},
   "source": [
    "## Step 5) Call LCEL Chain slotted with different prompts"
   ]
  },
  {
   "cell_type": "code",
   "execution_count": null,
   "metadata": {},
   "outputs": [],
   "source": [
    "out = chain.invoke(\"Why is USC good?\")\n",
    "print(out)"
   ]
  },
  {
   "cell_type": "code",
   "execution_count": null,
   "metadata": {},
   "outputs": [],
   "source": [
    "out = chain.invoke(\"Why is USC bad?\")\n",
    "print(out)"
   ]
  },
  {
   "cell_type": "code",
   "execution_count": null,
   "metadata": {},
   "outputs": [],
   "source": [
    "out = chain.invoke(\"Tell me about USC's Dance Program?\")\n",
    "print(out)"
   ]
  },
  {
   "cell_type": "markdown",
   "metadata": {},
   "source": [
    "## Step 6) Cleanup the RAG Documents as needed (Optional)"
   ]
  },
  {
   "cell_type": "code",
   "execution_count": null,
   "metadata": {},
   "outputs": [],
   "source": [
    "# Cleanup\n",
    "# pc.delete_index(name=index_name)"
   ]
  }
 ],
 "metadata": {
  "kernelspec": {
   "display_name": ".venv",
   "language": "python",
   "name": "python3"
  },
  "language_info": {
   "codemirror_mode": {
    "name": "ipython",
    "version": 3
   },
   "file_extension": ".py",
   "mimetype": "text/x-python",
   "name": "python",
   "nbconvert_exporter": "python",
   "pygments_lexer": "ipython3",
   "version": "3.9.6"
  }
 },
 "nbformat": 4,
 "nbformat_minor": 2
}
