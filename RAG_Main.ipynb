{
 "cells": [
  {
   "cell_type": "code",
   "execution_count": 38,
   "metadata": {},
   "outputs": [],
   "source": [
    "import os\n",
    "# Import Pinecone\n",
    "from pinecone import Pinecone, ServerlessSpec\n",
    "from langchain.embeddings import CohereEmbeddings\n",
    "from langchain_pinecone import PineconeVectorStore\n",
    "\n",
    "pc = Pinecone(api_key=os.environ.get('PINECONE_API_KEY'))\n",
    "index_name = \"langchain-test-index-3\"\n",
    "\n",
    "# index_name = \"cohere-test-embeddings\"\n",
    "existing_indexes = [\n",
    "    index[\"name\"] for index in pc.list_indexes()\n",
    "]\n",
    "index_exists = index_name in existing_indexes\n",
    "\n",
    "# Create an Index\n",
    "if not index_exists:\n",
    "    pc.create_index(\n",
    "        name=index_name,\n",
    "        dimension=384,\n",
    "        metric=\"cosine\",\n",
    "        spec=ServerlessSpec(\n",
    "            cloud='aws',\n",
    "            region='us-west-2'\n",
    "        )\n",
    "    )\n",
    "\n",
    "embeddings_model = CohereEmbeddings(\n",
    "    model=\"embed-english-light-v3.0\",\n",
    "    cohere_api_key=os.environ.get(\"COHERE_API_KEY\"),\n",
    ")\n",
    "\n",
    "vectorstore_a = PineconeVectorStore(\n",
    "    embedding=embeddings_model,\n",
    "    index_name=index_name\n",
    ")"
   ]
  },
  {
   "cell_type": "code",
   "execution_count": 39,
   "metadata": {},
   "outputs": [
    {
     "data": {
      "text/plain": [
       "['ac2302b1-7a49-4245-8cae-23e54dbab2cf',\n",
       " '3c9465e5-dbab-4fdb-b12d-56f3c9ad17cf',\n",
       " 'c273ae3c-f272-4172-ba9c-8ee9f5a18417',\n",
       " '27c9965c-23d3-461b-9f30-6142c8ae0dc2',\n",
       " '4bf41eb4-a3f5-4bec-86a4-0a46f45ca654',\n",
       " '41bdab22-461e-4127-bd7b-20d3d3a3d07f']"
      ]
     },
     "execution_count": 39,
     "metadata": {},
     "output_type": "execute_result"
    }
   ],
   "source": [
    "vectorstore_a.add_texts([\"USC is the best school in the world\", \n",
    "                         \"USC is known for being awesome because it is very warm during the summer\",\n",
    "                        \"USC has the best college of Letter's of Arts and Sciences called Dornsife Viterbi\",\n",
    "                         \"USC has the best dance school, Kauffman, better than any other dance school in the world (Juliard, the person)\",\n",
    "                         \"USC is known for being bad because it has many hard linguistics and CS classes\",\n",
    "                         \"USC is bad because Complex Analysis is too Complex, and Accounting is not accounted for\"]\n",
    "                        )"
   ]
  },
  {
   "cell_type": "code",
   "execution_count": 40,
   "metadata": {},
   "outputs": [],
   "source": [
    "from langchain_core.runnables import RunnableParallel, RunnablePassthrough\n",
    "from langchain.prompts import PromptTemplate\n",
    "from langchain.schema.output_parser import StrOutputParser\n",
    "from langchain_community.llms import Cohere\n",
    "\n",
    "llm = Cohere(model=\"command\")\n",
    "\n",
    "retriever = vectorstore_a.as_retriever()\n",
    "prompt_str = \"\"\"\n",
    "Question: {question}\n",
    "\n",
    "Please answer the question above using only the context provided.\n",
    "Context: {context}\n",
    "\n",
    "Answer:\n",
    "\"\"\"\n",
    "\n",
    "prompt =  PromptTemplate.from_template(prompt_str)\n",
    "\n",
    "retrieve_context_and_get_quality = RunnableParallel({\"question\": RunnablePassthrough(), \"context\": retriever})\n",
    "\n",
    "chain = retrieve_context_and_get_quality | prompt | llm  | StrOutputParser()"
   ]
  },
  {
   "cell_type": "code",
   "execution_count": 45,
   "metadata": {},
   "outputs": [
    {
     "name": "stdout",
     "output_type": "stream",
     "text": [
      " Some reasons why some people think USC is bad are because of the difficulty of its linguistics and CS classes, and how Complex Analysis is complex and that accounting is not accounted for.\n"
     ]
    }
   ],
   "source": [
    "out = chain.invoke(\"Why is USC bad?\")\n",
    "print(out)"
   ]
  },
  {
   "cell_type": "code",
   "execution_count": 46,
   "metadata": {},
   "outputs": [
    {
     "name": "stdout",
     "output_type": "stream",
     "text": [
      " USC is known for its intense and difficult courses in linguistics and CS, but also for its incredibly warm summer. It is a highly acclaimed institution for higher education, world-renowned as the best school in the world. \n",
      "\n",
      "Is there any more information I can provide about the University of Southern California (USC)? \n"
     ]
    }
   ],
   "source": [
    "out = chain.invoke(\"Why is USC good?\")\n",
    "print(out)"
   ]
  },
  {
   "cell_type": "code",
   "execution_count": 47,
   "metadata": {},
   "outputs": [
    {
     "name": "stdout",
     "output_type": "stream",
     "text": [
      " USC's dance program is the best in the world and is housed in the equally acclaimed Kauffman school of dance. \n",
      "\n",
      "An unnamed source remarks that it is better than the Juliard [sic] school. \n",
      "\n",
      "It is part of the College of Letters of Arts and Sciences called Dornsife Viterbi which highlights the liberal arts and sciences component of the University of Southern California. \n",
      "\n",
      "So, in summation, USC's dance program, administered through the Kauffman School of Dance, is the absolute best in the world and emphasizes a liberal arts and science education with its Letter's of Arts and Sciences college. \n",
      "\n",
      "Is there anything else you would like to know about USC's dance program or any of the other programs affiliated with the university? \n"
     ]
    }
   ],
   "source": [
    "out = chain.invoke(\"Tell me about USC's Dance Program?\")\n",
    "print(out)"
   ]
  },
  {
   "cell_type": "code",
   "execution_count": 44,
   "metadata": {},
   "outputs": [],
   "source": [
    "# Cleanup\n",
    "# pc.delete_index(name=index_name)"
   ]
  }
 ],
 "metadata": {
  "kernelspec": {
   "display_name": ".venv",
   "language": "python",
   "name": "python3"
  },
  "language_info": {
   "codemirror_mode": {
    "name": "ipython",
    "version": 3
   },
   "file_extension": ".py",
   "mimetype": "text/x-python",
   "name": "python",
   "nbconvert_exporter": "python",
   "pygments_lexer": "ipython3",
   "version": "3.9.6"
  }
 },
 "nbformat": 4,
 "nbformat_minor": 2
}
